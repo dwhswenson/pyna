{
 "cells": [
  {
   "cell_type": "markdown",
   "metadata": {},
   "source": [
    "# Analyzing a Curves output file with `pyña`\n",
    "\n",
    "Let's do a quick refresher about Curves output. First, Curves output for a trajectory is just the Curves output for each frame, concatenated together. That is, if you had `frame1.out`, `frame2.out`, and `frame3.out`, then `cat frame1.out frame2.out frame3.out` would be the same as the analysis for the whole trajectory.\n",
    "\n",
    "Within each frame, there are 5 groups of data. Following the Curves labels, we call these groups A-E (although perhaps it would be better to give them more descriptive names?). They include the following:\n",
    "\n",
    "* `groupA` : Base pair axis parameters (`xdisp`, `ydisp`, `inclin`, `tip`, `ax-bend`)\n",
    "* `groupB` : Intra-base pair parameters (`shear`, `stretch`, `stagger`, `buckle`, `propel`, `opening`)\n",
    "* `groupC` : Inter-base pair parameters (`shift`, `slide`, `rise`, `tilt`, `roll`, `twist`, `h-ris`, `h-twi`)\n",
    "* `groupD` : Backbone parameters (not yet supported)\n",
    "* `groupE` : Groove paramemeters (`w12`, `d12`, `w21`, `d21`)\n",
    "\n",
    "Note that, while Curves capitalizes the first letter of each measurement, `pyña` does not.\n",
    "\n",
    "Getting your data into a `pyña` object is as easy as the following two lines:"
   ]
  },
  {
   "cell_type": "code",
   "execution_count": 1,
   "metadata": {
    "collapsed": false
   },
   "outputs": [],
   "source": [
    "import pyna\n",
    "curves = pyna.CurvesAnalysis('./data/shorter.data')"
   ]
  },
  {
   "cell_type": "markdown",
   "metadata": {
    "collapsed": false
   },
   "source": [
    "## Using `pandas.Panel`s for each group's data\n",
    "\n",
    "The data from each group of parameters is put into a `pandas.Panel` object. By using `pandas`, we have many powerful options for analysis and export of data. However, I've simplified a few common tasks to have more familiar names within `pyña`."
   ]
  },
  {
   "cell_type": "code",
   "execution_count": 2,
   "metadata": {
    "collapsed": false
   },
   "outputs": [
    {
     "data": {
      "text/plain": [
       "<class 'pandas.core.panel.Panel'>\n",
       "Dimensions: 6 (items) x 4 (major_axis) x 30 (minor_axis)\n",
       "Items axis: buckle to stretch\n",
       "Major_axis axis: 0 to 3\n",
       "Minor_axis axis: 1.0 to 30.0"
      ]
     },
     "execution_count": 2,
     "metadata": {},
     "output_type": "execute_result"
    }
   ],
   "source": [
    "curves.panels['groupB']"
   ]
  },
  {
   "cell_type": "markdown",
   "metadata": {},
   "source": [
    "The `Panel` object includes 3 axes. In `pyña`, the \"item\" axis corresponds to the property being measured (e.g., `buckle`), the \"minor\" axis corresponds to the location within the strand as labeled by Curves (usually base-pair number), and the \"major\" axis corresponds to time.\n",
    "\n",
    "If we want to get a table with all the buckle angles, with each column representing a different base pair and each row representing a different frame of the trajectory, it is as easy as this:"
   ]
  },
  {
   "cell_type": "code",
   "execution_count": 3,
   "metadata": {
    "collapsed": false,
    "scrolled": true
   },
   "outputs": [
    {
     "data": {
      "text/html": [
       "<div style=\"max-height:1000px;max-width:1500px;overflow:auto;\">\n",
       "<table border=\"1\" class=\"dataframe\">\n",
       "  <thead>\n",
       "    <tr style=\"text-align: right;\">\n",
       "      <th></th>\n",
       "      <th>1.0</th>\n",
       "      <th>2.0</th>\n",
       "      <th>3.0</th>\n",
       "      <th>4.0</th>\n",
       "      <th>5.0</th>\n",
       "      <th>6.0</th>\n",
       "      <th>7.0</th>\n",
       "      <th>8.0</th>\n",
       "      <th>9.0</th>\n",
       "      <th>10.0</th>\n",
       "      <th>...</th>\n",
       "      <th>21.0</th>\n",
       "      <th>22.0</th>\n",
       "      <th>23.0</th>\n",
       "      <th>24.0</th>\n",
       "      <th>25.0</th>\n",
       "      <th>26.0</th>\n",
       "      <th>27.0</th>\n",
       "      <th>28.0</th>\n",
       "      <th>29.0</th>\n",
       "      <th>30.0</th>\n",
       "    </tr>\n",
       "  </thead>\n",
       "  <tbody>\n",
       "    <tr>\n",
       "      <th>0</th>\n",
       "      <td>-0.7</td>\n",
       "      <td>0.1</td>\n",
       "      <td>-5.6</td>\n",
       "      <td>-8.6</td>\n",
       "      <td>-4.7</td>\n",
       "      <td>-1.3</td>\n",
       "      <td>-4.1</td>\n",
       "      <td>-2.5</td>\n",
       "      <td>3.5</td>\n",
       "      <td>-1.9</td>\n",
       "      <td>...</td>\n",
       "      <td>-3.3</td>\n",
       "      <td>-11.9</td>\n",
       "      <td>2.8</td>\n",
       "      <td>-1.2</td>\n",
       "      <td>-15.0</td>\n",
       "      <td>-10.6</td>\n",
       "      <td>2.1</td>\n",
       "      <td>-13.3</td>\n",
       "      <td>-14.4</td>\n",
       "      <td>-14.8</td>\n",
       "    </tr>\n",
       "    <tr>\n",
       "      <th>1</th>\n",
       "      <td>-2.1</td>\n",
       "      <td>4.2</td>\n",
       "      <td>-0.2</td>\n",
       "      <td>-4.6</td>\n",
       "      <td>7.8</td>\n",
       "      <td>19.2</td>\n",
       "      <td>1.3</td>\n",
       "      <td>2.5</td>\n",
       "      <td>-8.3</td>\n",
       "      <td>-8.6</td>\n",
       "      <td>...</td>\n",
       "      <td>-2.9</td>\n",
       "      <td>8.5</td>\n",
       "      <td>3.2</td>\n",
       "      <td>-11.2</td>\n",
       "      <td>14.0</td>\n",
       "      <td>15.2</td>\n",
       "      <td>1.2</td>\n",
       "      <td>-5.1</td>\n",
       "      <td>0.9</td>\n",
       "      <td>-9.4</td>\n",
       "    </tr>\n",
       "    <tr>\n",
       "      <th>2</th>\n",
       "      <td>12.5</td>\n",
       "      <td>5.9</td>\n",
       "      <td>1.9</td>\n",
       "      <td>-11.1</td>\n",
       "      <td>-20.9</td>\n",
       "      <td>-2.1</td>\n",
       "      <td>-2.1</td>\n",
       "      <td>2.5</td>\n",
       "      <td>11.1</td>\n",
       "      <td>-10.3</td>\n",
       "      <td>...</td>\n",
       "      <td>-5.6</td>\n",
       "      <td>25.5</td>\n",
       "      <td>1.6</td>\n",
       "      <td>-11.8</td>\n",
       "      <td>1.0</td>\n",
       "      <td>10.3</td>\n",
       "      <td>9.5</td>\n",
       "      <td>-2.5</td>\n",
       "      <td>6.8</td>\n",
       "      <td>-8.5</td>\n",
       "    </tr>\n",
       "    <tr>\n",
       "      <th>3</th>\n",
       "      <td>-7.4</td>\n",
       "      <td>3.3</td>\n",
       "      <td>-3.5</td>\n",
       "      <td>-15.2</td>\n",
       "      <td>-1.6</td>\n",
       "      <td>-4.9</td>\n",
       "      <td>-13.6</td>\n",
       "      <td>-15.2</td>\n",
       "      <td>-10.5</td>\n",
       "      <td>11.6</td>\n",
       "      <td>...</td>\n",
       "      <td>0.9</td>\n",
       "      <td>12.4</td>\n",
       "      <td>3.0</td>\n",
       "      <td>-4.6</td>\n",
       "      <td>-7.5</td>\n",
       "      <td>5.1</td>\n",
       "      <td>-9.3</td>\n",
       "      <td>-9.4</td>\n",
       "      <td>-16.1</td>\n",
       "      <td>-11.9</td>\n",
       "    </tr>\n",
       "  </tbody>\n",
       "</table>\n",
       "<p>4 rows × 30 columns</p>\n",
       "</div>"
      ],
      "text/plain": [
       "     1    2    3     4     5     6     7     8     9     10  ...    21    22  \\\n",
       "0  -0.7  0.1 -5.6  -8.6  -4.7  -1.3  -4.1  -2.5   3.5  -1.9  ...  -3.3 -11.9   \n",
       "1  -2.1  4.2 -0.2  -4.6   7.8  19.2   1.3   2.5  -8.3  -8.6  ...  -2.9   8.5   \n",
       "2  12.5  5.9  1.9 -11.1 -20.9  -2.1  -2.1   2.5  11.1 -10.3  ...  -5.6  25.5   \n",
       "3  -7.4  3.3 -3.5 -15.2  -1.6  -4.9 -13.6 -15.2 -10.5  11.6  ...   0.9  12.4   \n",
       "\n",
       "    23    24    25    26   27    28    29    30  \n",
       "0  2.8  -1.2 -15.0 -10.6  2.1 -13.3 -14.4 -14.8  \n",
       "1  3.2 -11.2  14.0  15.2  1.2  -5.1   0.9  -9.4  \n",
       "2  1.6 -11.8   1.0  10.3  9.5  -2.5   6.8  -8.5  \n",
       "3  3.0  -4.6  -7.5   5.1 -9.3  -9.4 -16.1 -11.9  \n",
       "\n",
       "[4 rows x 30 columns]"
      ]
     },
     "execution_count": 3,
     "metadata": {},
     "output_type": "execute_result"
    }
   ],
   "source": [
    "curves.panels['groupB']['buckle']"
   ]
  },
  {
   "cell_type": "markdown",
   "metadata": {},
   "source": [
    "Note how this dataframe differs from the Curves output: each column from Curves is now a separate table; what were the rows in Curves are columns for `pyña`. And for `pyña` each row represented a time, whereas Curves has each time in a separate table. At the end of this document, I'll show how to reconstruct the Curves approach."
   ]
  },
  {
   "cell_type": "markdown",
   "metadata": {},
   "source": [
    "The main object to generate statistics on subsets of that data is `pyna.StrandStatistics`. You create a `StrandStatistics` object with a dataframe, 0 or more `locations`, and 0 or more `times`. The locations refer to the columns in the `pyña` dataframe, and the times refer to its rows.\n",
    "\n",
    "If you don't set `locations`, then the statistics are generated for all locations. The same is true of `times`.\n",
    "\n",
    "So if you want to see the average buckle angle, averaged over all time and all base pairs, you can obtain that with:"
   ]
  },
  {
   "cell_type": "code",
   "execution_count": 4,
   "metadata": {
    "collapsed": false
   },
   "outputs": [
    {
     "data": {
      "text/plain": [
       "-1.3375000000000001"
      ]
     },
     "execution_count": 4,
     "metadata": {},
     "output_type": "execute_result"
    }
   ],
   "source": [
    "pyna.StrandStatistics(curves.panels['groupB']['buckle']).mean()"
   ]
  },
  {
   "cell_type": "markdown",
   "metadata": {},
   "source": [
    "Of course, it may be better to save the statistics object. The function `.summary()` shows a number of properties (each available as a function of that name, with no arguments). Internally, the structure has a property `.df`, to which any pandas statistics can be applied, as well as `.np`, which returns a numpy array for use with numpy or scipy statistical analysis."
   ]
  },
  {
   "cell_type": "code",
   "execution_count": 5,
   "metadata": {
    "collapsed": false
   },
   "outputs": [
    {
     "name": "stdout",
     "output_type": "stream",
     "text": [
      "count: 120\n",
      "mean: -1.3375\n",
      "std:  9.43724061454\n",
      "min:  -23.3\n",
      "max:  26.0\n",
      "\n"
     ]
    }
   ],
   "source": [
    "all_buckle = pyna.StrandStatistics(curves.panels['groupB']['buckle'])\n",
    "print all_buckle.summary()"
   ]
  },
  {
   "cell_type": "markdown",
   "metadata": {},
   "source": [
    "To get information about the distribution of the buckle angle for base pair 6 (distribution over time), do the following:\n"
   ]
  },
  {
   "cell_type": "code",
   "execution_count": 6,
   "metadata": {
    "collapsed": false
   },
   "outputs": [
    {
     "name": "stdout",
     "output_type": "stream",
     "text": [
      "count: 4\n",
      "mean: 2.725\n",
      "std:  9.60530452406\n",
      "min:  -4.9\n",
      "max:  19.2\n",
      "\n"
     ]
    }
   ],
   "source": [
    "bp6_byTime = pyna.StrandStatistics(curves.panels['groupB']['buckle'], locations=6)\n",
    "print bp6_byTime.summary()"
   ]
  },
  {
   "cell_type": "markdown",
   "metadata": {},
   "source": [
    "To get information about the distribution of buckle angles in a given frame (averaging over base pair number), you can do this:"
   ]
  },
  {
   "cell_type": "code",
   "execution_count": 7,
   "metadata": {
    "collapsed": false
   },
   "outputs": [
    {
     "name": "stdout",
     "output_type": "stream",
     "text": [
      "count: 30\n",
      "mean: -3.29\n",
      "std:  7.27765300996\n",
      "min:  -15.0\n",
      "max:  16.6\n",
      "\n"
     ]
    }
   ],
   "source": [
    "frame0 = pyna.StrandStatistics(curves.panels['groupB']['buckle'], times=0)\n",
    "print frame0.summary()"
   ]
  },
  {
   "cell_type": "markdown",
   "metadata": {},
   "source": [
    "You can also limit that to a subset of the base pairs by using the column headers for them:"
   ]
  },
  {
   "cell_type": "code",
   "execution_count": 8,
   "metadata": {
    "collapsed": false
   },
   "outputs": [
    {
     "name": "stdout",
     "output_type": "stream",
     "text": [
      "count: 3\n",
      "mean: -4.86666666667\n",
      "std:  2.98254179444\n",
      "min:  -8.6\n",
      "max:  -1.3\n",
      "\n"
     ]
    }
   ],
   "source": [
    "frame0_subset_columns = pyna.StrandStatistics(curves.panels['groupB']['buckle'], times=0, locations=[4,5,6])\n",
    "print frame0_subset_columns.summary()"
   ]
  },
  {
   "cell_type": "markdown",
   "metadata": {},
   "source": [
    "Say you want the distribution of buckle angles for a group of base pairs averaged over both that group and over all frames:"
   ]
  },
  {
   "cell_type": "code",
   "execution_count": 9,
   "metadata": {
    "collapsed": false
   },
   "outputs": [
    {
     "name": "stdout",
     "output_type": "stream",
     "text": [
      "count: 12\n",
      "mean: -2.25\n",
      "std:  9.43473193401\n",
      "min:  -20.9\n",
      "max:  19.2\n",
      "\n",
      "count: [4 4 4]\n",
      "mean: [-4.85   2.725 -4.625]\n",
      "std:  [ 11.94724515  11.09125031   6.38507374]\n",
      "min:  [-20.9  -4.9 -13.6]\n",
      "max:  [  7.8  19.2   1.3]\n",
      "\n"
     ]
    }
   ],
   "source": [
    "sub_columns = pyna.StrandStatistics(curves.panels['groupB']['buckle'], locations=[4,5,6])\n",
    "print sub_columns.summary()\n",
    "print sub_columns.summary(per_location=True)"
   ]
  },
  {
   "cell_type": "markdown",
   "metadata": {},
   "source": [
    "Or perhaps you only want to look at that for a subsection of the frames:"
   ]
  },
  {
   "cell_type": "code",
   "execution_count": 10,
   "metadata": {
    "collapsed": false
   },
   "outputs": [
    {
     "name": "stdout",
     "output_type": "stream",
     "text": [
      "count: 6\n",
      "mean: -5.86666666667\n",
      "std:  6.82780263986\n",
      "min:  -20.9\n",
      "max:  -1.3\n",
      "\n"
     ]
    }
   ],
   "source": [
    "subtime_subcol = pyna.StrandStatistics(curves.panels['groupB']['buckle'], times=[0,2], locations=[4, 5, 6])\n",
    "print subtime_subcol.summary()"
   ]
  },
  {
   "cell_type": "markdown",
   "metadata": {},
   "source": [
    "Note also that `pyña` correctly handles the groove parameters, which can't always be calculated for all base pair lables. Where there is no answer, `pyña` returns \"not-a-number\" (NaN)."
   ]
  },
  {
   "cell_type": "code",
   "execution_count": 11,
   "metadata": {
    "collapsed": false,
    "scrolled": true
   },
   "outputs": [
    {
     "data": {
      "text/html": [
       "<div style=\"max-height:1000px;max-width:1500px;overflow:auto;\">\n",
       "<table border=\"1\" class=\"dataframe\">\n",
       "  <thead>\n",
       "    <tr style=\"text-align: right;\">\n",
       "      <th></th>\n",
       "      <th>1.5</th>\n",
       "      <th>2.0</th>\n",
       "      <th>2.5</th>\n",
       "      <th>3.0</th>\n",
       "      <th>3.5</th>\n",
       "      <th>4.0</th>\n",
       "      <th>4.5</th>\n",
       "      <th>5.0</th>\n",
       "      <th>5.5</th>\n",
       "      <th>6.0</th>\n",
       "      <th>...</th>\n",
       "      <th>25.0</th>\n",
       "      <th>25.5</th>\n",
       "      <th>26.0</th>\n",
       "      <th>26.5</th>\n",
       "      <th>27.0</th>\n",
       "      <th>27.5</th>\n",
       "      <th>28.0</th>\n",
       "      <th>28.5</th>\n",
       "      <th>29.0</th>\n",
       "      <th>29.5</th>\n",
       "    </tr>\n",
       "  </thead>\n",
       "  <tbody>\n",
       "    <tr>\n",
       "      <th>0</th>\n",
       "      <td>NaN</td>\n",
       "      <td>NaN</td>\n",
       "      <td>NaN</td>\n",
       "      <td>7.0</td>\n",
       "      <td>6.4</td>\n",
       "      <td>6.0</td>\n",
       "      <td>6.1</td>\n",
       "      <td>6.0</td>\n",
       "      <td>5.5</td>\n",
       "      <td>5.5</td>\n",
       "      <td>...</td>\n",
       "      <td>5.7</td>\n",
       "      <td>7.1</td>\n",
       "      <td>8.3</td>\n",
       "      <td>7.2</td>\n",
       "      <td>5.6</td>\n",
       "      <td>4.8</td>\n",
       "      <td>NaN</td>\n",
       "      <td>NaN</td>\n",
       "      <td>NaN</td>\n",
       "      <td>NaN</td>\n",
       "    </tr>\n",
       "    <tr>\n",
       "      <th>1</th>\n",
       "      <td>NaN</td>\n",
       "      <td>NaN</td>\n",
       "      <td>NaN</td>\n",
       "      <td>NaN</td>\n",
       "      <td>6.1</td>\n",
       "      <td>6.6</td>\n",
       "      <td>6.9</td>\n",
       "      <td>7.1</td>\n",
       "      <td>6.6</td>\n",
       "      <td>6.1</td>\n",
       "      <td>...</td>\n",
       "      <td>6.9</td>\n",
       "      <td>5.9</td>\n",
       "      <td>4.8</td>\n",
       "      <td>4.3</td>\n",
       "      <td>4.1</td>\n",
       "      <td>4.7</td>\n",
       "      <td>NaN</td>\n",
       "      <td>NaN</td>\n",
       "      <td>NaN</td>\n",
       "      <td>NaN</td>\n",
       "    </tr>\n",
       "    <tr>\n",
       "      <th>2</th>\n",
       "      <td>NaN</td>\n",
       "      <td>NaN</td>\n",
       "      <td>NaN</td>\n",
       "      <td>4.5</td>\n",
       "      <td>3.5</td>\n",
       "      <td>3.5</td>\n",
       "      <td>5.0</td>\n",
       "      <td>6.3</td>\n",
       "      <td>6.3</td>\n",
       "      <td>6.0</td>\n",
       "      <td>...</td>\n",
       "      <td>7.1</td>\n",
       "      <td>7.8</td>\n",
       "      <td>7.7</td>\n",
       "      <td>6.6</td>\n",
       "      <td>5.2</td>\n",
       "      <td>4.1</td>\n",
       "      <td>4.3</td>\n",
       "      <td>NaN</td>\n",
       "      <td>NaN</td>\n",
       "      <td>NaN</td>\n",
       "    </tr>\n",
       "    <tr>\n",
       "      <th>3</th>\n",
       "      <td>NaN</td>\n",
       "      <td>NaN</td>\n",
       "      <td>NaN</td>\n",
       "      <td>6.6</td>\n",
       "      <td>5.6</td>\n",
       "      <td>4.9</td>\n",
       "      <td>5.1</td>\n",
       "      <td>5.2</td>\n",
       "      <td>4.8</td>\n",
       "      <td>5.1</td>\n",
       "      <td>...</td>\n",
       "      <td>4.5</td>\n",
       "      <td>5.3</td>\n",
       "      <td>6.4</td>\n",
       "      <td>5.9</td>\n",
       "      <td>5.1</td>\n",
       "      <td>5.1</td>\n",
       "      <td>NaN</td>\n",
       "      <td>NaN</td>\n",
       "      <td>NaN</td>\n",
       "      <td>NaN</td>\n",
       "    </tr>\n",
       "  </tbody>\n",
       "</table>\n",
       "<p>4 rows × 57 columns</p>\n",
       "</div>"
      ],
      "text/plain": [
       "   1.5   2.0   2.5   3.0   3.5   4.0   4.5   5.0   5.5   6.0   ...   25.0  \\\n",
       "0   NaN   NaN   NaN   7.0   6.4   6.0   6.1   6.0   5.5   5.5  ...    5.7   \n",
       "1   NaN   NaN   NaN   NaN   6.1   6.6   6.9   7.1   6.6   6.1  ...    6.9   \n",
       "2   NaN   NaN   NaN   4.5   3.5   3.5   5.0   6.3   6.3   6.0  ...    7.1   \n",
       "3   NaN   NaN   NaN   6.6   5.6   4.9   5.1   5.2   4.8   5.1  ...    4.5   \n",
       "\n",
       "   25.5  26.0  26.5  27.0  27.5  28.0  28.5  29.0  29.5  \n",
       "0   7.1   8.3   7.2   5.6   4.8   NaN   NaN   NaN   NaN  \n",
       "1   5.9   4.8   4.3   4.1   4.7   NaN   NaN   NaN   NaN  \n",
       "2   7.8   7.7   6.6   5.2   4.1   4.3   NaN   NaN   NaN  \n",
       "3   5.3   6.4   5.9   5.1   5.1   NaN   NaN   NaN   NaN  \n",
       "\n",
       "[4 rows x 57 columns]"
      ]
     },
     "execution_count": 11,
     "metadata": {},
     "output_type": "execute_result"
    }
   ],
   "source": [
    "curves.panels['groupE']['w12']"
   ]
  },
  {
   "cell_type": "markdown",
   "metadata": {},
   "source": [
    "Having NaNs still allows correct statistics:"
   ]
  },
  {
   "cell_type": "code",
   "execution_count": 12,
   "metadata": {
    "collapsed": false
   },
   "outputs": [
    {
     "name": "stdout",
     "output_type": "stream",
     "text": [
      "count: 3\n",
      "mean: 6.03333333333\n",
      "std:  1.09645894689\n",
      "min:  4.5\n",
      "max:  7.0\n",
      "\n"
     ]
    }
   ],
   "source": [
    "wstat3 = pyna.StrandStatistics(curves.panels['groupE']['w12'], locations=3)\n",
    "print wstat3.summary()"
   ]
  },
  {
   "cell_type": "code",
   "execution_count": 13,
   "metadata": {
    "collapsed": false
   },
   "outputs": [
    {
     "name": "stdout",
     "output_type": "stream",
     "text": [
      "count: 200\n",
      "mean: 5.7885\n",
      "std:  1.27425183932\n",
      "min:  2.4\n",
      "max:  8.3\n",
      "\n",
      "count: [0 0 0 3 4 4 4 4 4 4 4 4 4 4 4 4 4 4 4 4 4 4 4 4 4 4 4 4 4 4 4 4 4 4 4 4 4\n",
      " 4 4 4 4 4 4 4 4 4 4 4 4 4 4 4 4 1 0 0 0]\n",
      "mean: [        nan         nan         nan  6.03333333  5.4         5.25        5.775\n",
      "  6.15        5.8         5.675       5.925       6.1         6.1         6.125\n",
      "  6.275       6.625       7.15        7.6         7.625       7.65        7.225\n",
      "  6.65        6.325       5.9         4.95        4.2         4.325       4.525\n",
      "  4.85        5.65        6.275       6.65        6.875       6.8         5.675\n",
      "  4.85        4.725       5.25        6.075       6.55        5.875       5.1\n",
      "  4.675       4.525       4.075       4.05        4.925       6.05        6.525\n",
      "  6.8         6.          5.          4.675       4.3                nan\n",
      "         nan         nan]\n",
      "std:  [        nan         nan         nan  1.34288247  1.30894359  1.36259556\n",
      "  0.89953692  0.78528127  0.81240384  0.46457866  0.49244289  1.17473401\n",
      "  1.00995049  0.63966137  0.55602758  1.18988795  0.88128694  0.46904158\n",
      "  0.23629078  0.61373175  1.19547759  1.56311655  1.21483881  0.96953597\n",
      "  0.65574385  0.87559504  1.40089257  1.73084758  1.14455231  0.61373175\n",
      "  0.45734742  0.7         0.92870878  1.12249722  0.94648472  0.47958315\n",
      "  0.7410578   0.94692485  0.85391256  0.61373175  0.49916597  0.59441848\n",
      "  0.22173558  0.71355915  0.98107084  1.80462369  1.23389627  1.20415946\n",
      "  1.13247517  1.5513435   1.25166556  0.63770422  0.41932485         nan\n",
      "         nan         nan         nan]\n",
      "min:  [ nan  nan  nan  4.5  3.5  3.5  5.   5.2  4.8  5.1  5.3  4.6  5.1  5.4  5.6\n",
      "  5.6  6.4  7.3  7.3  6.9  6.   5.2  4.8  4.5  4.1  3.6  3.   2.6  3.5  4.9\n",
      "  5.6  5.6  5.6  5.5  4.6  4.3  3.8  4.4  5.   5.8  5.2  4.3  4.4  3.7  2.9\n",
      "  2.4  3.5  4.5  5.3  4.8  4.3  4.1  4.1  4.3  nan  nan  nan]\n",
      "max:  [ nan  nan  nan  7.   6.4  6.6  6.9  7.1  6.6  6.1  6.5  7.3  7.2  6.8  6.9\n",
      "  7.8  8.1  8.3  7.8  8.2  8.3  8.1  7.4  6.6  5.7  5.5  6.3  6.8  6.3  6.4\n",
      "  6.6  7.   7.8  8.2  6.9  5.3  5.5  6.3  6.9  7.1  6.3  5.6  4.9  5.4  5.3\n",
      "  6.4  6.5  7.1  7.8  8.3  7.2  5.6  5.1  4.3  nan  nan  nan]\n",
      "\n"
     ]
    }
   ],
   "source": [
    "wstat = pyna.StrandStatistics(curves.panels['groupE']['w12'])\n",
    "print wstat.summary()\n",
    "print wstat.summary(per_location=True)"
   ]
  },
  {
   "cell_type": "markdown",
   "metadata": {},
   "source": [
    "### Co-keys\n",
    "\n",
    "There are several columns in the Curves output which remain unchanged from frame to frame. These help give additional information about what the Curves base pair key (the row in Curves, the column in `pyña`'s dataframes). Since they are unchanged with each frame, we only save them in one place, called `co_keys`. For example, to see the co-key for the buckle (part of group B) in the column labeled \"6\", you type:"
   ]
  },
  {
   "cell_type": "code",
   "execution_count": 14,
   "metadata": {
    "collapsed": false
   },
   "outputs": [
    {
     "data": {
      "text/plain": [
       "['T', '7-A', '26']"
      ]
     },
     "execution_count": 14,
     "metadata": {},
     "output_type": "execute_result"
    }
   ],
   "source": [
    "curves.co_keys['groupB'][6]"
   ]
  },
  {
   "cell_type": "markdown",
   "metadata": {},
   "source": [
    "These are the same columns you would see in Curves, following the \"6)\" label."
   ]
  },
  {
   "cell_type": "markdown",
   "metadata": {},
   "source": [
    "### Curves-like panels\n",
    "\n",
    "Maybe you want to double-check `pyña`'s output against the output in Curves, or maybe you just like the paradigm used by Curves more. Here's how to create `Panels` using the Curves convention, where the \"item\" axis is time, the \"minor\" axis is the measurement name, and the \"major\" axis is the base pair label:"
   ]
  },
  {
   "cell_type": "code",
   "execution_count": 15,
   "metadata": {
    "collapsed": false
   },
   "outputs": [],
   "source": [
    "curvesE =  pyna.curves_style(curves.panels['groupE'])"
   ]
  },
  {
   "cell_type": "markdown",
   "metadata": {},
   "source": [
    "You still have one panel per group, but the organization of each panel has changed."
   ]
  },
  {
   "cell_type": "code",
   "execution_count": 16,
   "metadata": {
    "collapsed": false
   },
   "outputs": [
    {
     "data": {
      "text/html": [
       "<div style=\"max-height:1000px;max-width:1500px;overflow:auto;\">\n",
       "<table border=\"1\" class=\"dataframe\">\n",
       "  <thead>\n",
       "    <tr style=\"text-align: right;\">\n",
       "      <th></th>\n",
       "      <th>d12</th>\n",
       "      <th>d21</th>\n",
       "      <th>w12</th>\n",
       "      <th>w21</th>\n",
       "    </tr>\n",
       "  </thead>\n",
       "  <tbody>\n",
       "    <tr>\n",
       "      <th>1.5</th>\n",
       "      <td>NaN</td>\n",
       "      <td>NaN</td>\n",
       "      <td>NaN</td>\n",
       "      <td>NaN</td>\n",
       "    </tr>\n",
       "    <tr>\n",
       "      <th>2.0</th>\n",
       "      <td>NaN</td>\n",
       "      <td>NaN</td>\n",
       "      <td>NaN</td>\n",
       "      <td>NaN</td>\n",
       "    </tr>\n",
       "    <tr>\n",
       "      <th>2.5</th>\n",
       "      <td>NaN</td>\n",
       "      <td>NaN</td>\n",
       "      <td>NaN</td>\n",
       "      <td>NaN</td>\n",
       "    </tr>\n",
       "    <tr>\n",
       "      <th>3.0</th>\n",
       "      <td>4.8</td>\n",
       "      <td>NaN</td>\n",
       "      <td>7.0</td>\n",
       "      <td>NaN</td>\n",
       "    </tr>\n",
       "    <tr>\n",
       "      <th>3.5</th>\n",
       "      <td>5.1</td>\n",
       "      <td>NaN</td>\n",
       "      <td>6.4</td>\n",
       "      <td>NaN</td>\n",
       "    </tr>\n",
       "    <tr>\n",
       "      <th>4.0</th>\n",
       "      <td>5.4</td>\n",
       "      <td>5.2</td>\n",
       "      <td>6.0</td>\n",
       "      <td>11.1</td>\n",
       "    </tr>\n",
       "    <tr>\n",
       "      <th>4.5</th>\n",
       "      <td>5.3</td>\n",
       "      <td>4.6</td>\n",
       "      <td>6.1</td>\n",
       "      <td>10.5</td>\n",
       "    </tr>\n",
       "    <tr>\n",
       "      <th>5.0</th>\n",
       "      <td>5.0</td>\n",
       "      <td>4.8</td>\n",
       "      <td>6.0</td>\n",
       "      <td>11.3</td>\n",
       "    </tr>\n",
       "    <tr>\n",
       "      <th>5.5</th>\n",
       "      <td>5.9</td>\n",
       "      <td>0.5</td>\n",
       "      <td>5.5</td>\n",
       "      <td>12.0</td>\n",
       "    </tr>\n",
       "    <tr>\n",
       "      <th>6.0</th>\n",
       "      <td>6.0</td>\n",
       "      <td>4.3</td>\n",
       "      <td>5.5</td>\n",
       "      <td>11.7</td>\n",
       "    </tr>\n",
       "    <tr>\n",
       "      <th>6.5</th>\n",
       "      <td>5.6</td>\n",
       "      <td>4.6</td>\n",
       "      <td>6.5</td>\n",
       "      <td>10.9</td>\n",
       "    </tr>\n",
       "    <tr>\n",
       "      <th>7.0</th>\n",
       "      <td>5.4</td>\n",
       "      <td>5.0</td>\n",
       "      <td>7.3</td>\n",
       "      <td>10.6</td>\n",
       "    </tr>\n",
       "    <tr>\n",
       "      <th>7.5</th>\n",
       "      <td>5.4</td>\n",
       "      <td>4.9</td>\n",
       "      <td>7.2</td>\n",
       "      <td>10.7</td>\n",
       "    </tr>\n",
       "    <tr>\n",
       "      <th>8.0</th>\n",
       "      <td>4.9</td>\n",
       "      <td>4.7</td>\n",
       "      <td>6.8</td>\n",
       "      <td>10.3</td>\n",
       "    </tr>\n",
       "    <tr>\n",
       "      <th>8.5</th>\n",
       "      <td>5.4</td>\n",
       "      <td>4.6</td>\n",
       "      <td>6.1</td>\n",
       "      <td>10.5</td>\n",
       "    </tr>\n",
       "    <tr>\n",
       "      <th>9.0</th>\n",
       "      <td>6.0</td>\n",
       "      <td>4.5</td>\n",
       "      <td>5.6</td>\n",
       "      <td>11.1</td>\n",
       "    </tr>\n",
       "    <tr>\n",
       "      <th>9.5</th>\n",
       "      <td>5.8</td>\n",
       "      <td>4.8</td>\n",
       "      <td>6.4</td>\n",
       "      <td>12.3</td>\n",
       "    </tr>\n",
       "    <tr>\n",
       "      <th>10.0</th>\n",
       "      <td>5.3</td>\n",
       "      <td>3.3</td>\n",
       "      <td>7.4</td>\n",
       "      <td>11.5</td>\n",
       "    </tr>\n",
       "    <tr>\n",
       "      <th>10.5</th>\n",
       "      <td>5.3</td>\n",
       "      <td>4.3</td>\n",
       "      <td>7.8</td>\n",
       "      <td>10.9</td>\n",
       "    </tr>\n",
       "    <tr>\n",
       "      <th>11.0</th>\n",
       "      <td>5.2</td>\n",
       "      <td>5.8</td>\n",
       "      <td>8.2</td>\n",
       "      <td>9.6</td>\n",
       "    </tr>\n",
       "    <tr>\n",
       "      <th>11.5</th>\n",
       "      <td>5.0</td>\n",
       "      <td>6.1</td>\n",
       "      <td>8.3</td>\n",
       "      <td>9.2</td>\n",
       "    </tr>\n",
       "    <tr>\n",
       "      <th>12.0</th>\n",
       "      <td>4.8</td>\n",
       "      <td>6.0</td>\n",
       "      <td>8.1</td>\n",
       "      <td>9.2</td>\n",
       "    </tr>\n",
       "    <tr>\n",
       "      <th>12.5</th>\n",
       "      <td>4.9</td>\n",
       "      <td>5.3</td>\n",
       "      <td>7.4</td>\n",
       "      <td>10.0</td>\n",
       "    </tr>\n",
       "    <tr>\n",
       "      <th>13.0</th>\n",
       "      <td>5.0</td>\n",
       "      <td>4.0</td>\n",
       "      <td>6.6</td>\n",
       "      <td>10.2</td>\n",
       "    </tr>\n",
       "    <tr>\n",
       "      <th>13.5</th>\n",
       "      <td>5.3</td>\n",
       "      <td>5.0</td>\n",
       "      <td>5.7</td>\n",
       "      <td>10.4</td>\n",
       "    </tr>\n",
       "    <tr>\n",
       "      <th>14.0</th>\n",
       "      <td>5.5</td>\n",
       "      <td>5.2</td>\n",
       "      <td>5.5</td>\n",
       "      <td>10.0</td>\n",
       "    </tr>\n",
       "    <tr>\n",
       "      <th>14.5</th>\n",
       "      <td>4.8</td>\n",
       "      <td>5.7</td>\n",
       "      <td>6.3</td>\n",
       "      <td>10.9</td>\n",
       "    </tr>\n",
       "    <tr>\n",
       "      <th>15.0</th>\n",
       "      <td>4.5</td>\n",
       "      <td>5.3</td>\n",
       "      <td>6.8</td>\n",
       "      <td>11.8</td>\n",
       "    </tr>\n",
       "    <tr>\n",
       "      <th>15.5</th>\n",
       "      <td>5.5</td>\n",
       "      <td>5.7</td>\n",
       "      <td>6.3</td>\n",
       "      <td>12.3</td>\n",
       "    </tr>\n",
       "    <tr>\n",
       "      <th>16.0</th>\n",
       "      <td>5.6</td>\n",
       "      <td>4.7</td>\n",
       "      <td>6.4</td>\n",
       "      <td>11.6</td>\n",
       "    </tr>\n",
       "    <tr>\n",
       "      <th>16.5</th>\n",
       "      <td>5.3</td>\n",
       "      <td>4.8</td>\n",
       "      <td>6.6</td>\n",
       "      <td>10.9</td>\n",
       "    </tr>\n",
       "    <tr>\n",
       "      <th>17.0</th>\n",
       "      <td>5.0</td>\n",
       "      <td>5.1</td>\n",
       "      <td>7.0</td>\n",
       "      <td>10.2</td>\n",
       "    </tr>\n",
       "    <tr>\n",
       "      <th>17.5</th>\n",
       "      <td>4.9</td>\n",
       "      <td>4.9</td>\n",
       "      <td>7.8</td>\n",
       "      <td>10.1</td>\n",
       "    </tr>\n",
       "    <tr>\n",
       "      <th>18.0</th>\n",
       "      <td>5.1</td>\n",
       "      <td>3.5</td>\n",
       "      <td>8.2</td>\n",
       "      <td>9.2</td>\n",
       "    </tr>\n",
       "    <tr>\n",
       "      <th>18.5</th>\n",
       "      <td>5.6</td>\n",
       "      <td>4.6</td>\n",
       "      <td>6.9</td>\n",
       "      <td>9.8</td>\n",
       "    </tr>\n",
       "    <tr>\n",
       "      <th>19.0</th>\n",
       "      <td>5.9</td>\n",
       "      <td>4.9</td>\n",
       "      <td>5.2</td>\n",
       "      <td>11.3</td>\n",
       "    </tr>\n",
       "    <tr>\n",
       "      <th>19.5</th>\n",
       "      <td>5.9</td>\n",
       "      <td>5.2</td>\n",
       "      <td>4.5</td>\n",
       "      <td>13.1</td>\n",
       "    </tr>\n",
       "    <tr>\n",
       "      <th>20.0</th>\n",
       "      <td>5.8</td>\n",
       "      <td>3.0</td>\n",
       "      <td>4.4</td>\n",
       "      <td>12.9</td>\n",
       "    </tr>\n",
       "    <tr>\n",
       "      <th>20.5</th>\n",
       "      <td>5.1</td>\n",
       "      <td>3.7</td>\n",
       "      <td>5.0</td>\n",
       "      <td>12.7</td>\n",
       "    </tr>\n",
       "    <tr>\n",
       "      <th>21.0</th>\n",
       "      <td>4.6</td>\n",
       "      <td>4.8</td>\n",
       "      <td>5.8</td>\n",
       "      <td>12.3</td>\n",
       "    </tr>\n",
       "    <tr>\n",
       "      <th>21.5</th>\n",
       "      <td>5.2</td>\n",
       "      <td>5.4</td>\n",
       "      <td>5.8</td>\n",
       "      <td>11.1</td>\n",
       "    </tr>\n",
       "    <tr>\n",
       "      <th>22.0</th>\n",
       "      <td>5.7</td>\n",
       "      <td>5.6</td>\n",
       "      <td>5.5</td>\n",
       "      <td>9.7</td>\n",
       "    </tr>\n",
       "    <tr>\n",
       "      <th>22.5</th>\n",
       "      <td>5.7</td>\n",
       "      <td>5.6</td>\n",
       "      <td>4.4</td>\n",
       "      <td>10.2</td>\n",
       "    </tr>\n",
       "    <tr>\n",
       "      <th>23.0</th>\n",
       "      <td>5.5</td>\n",
       "      <td>4.1</td>\n",
       "      <td>3.7</td>\n",
       "      <td>10.7</td>\n",
       "    </tr>\n",
       "    <tr>\n",
       "      <th>23.5</th>\n",
       "      <td>5.4</td>\n",
       "      <td>1.9</td>\n",
       "      <td>4.0</td>\n",
       "      <td>11.0</td>\n",
       "    </tr>\n",
       "    <tr>\n",
       "      <th>24.0</th>\n",
       "      <td>5.2</td>\n",
       "      <td>4.6</td>\n",
       "      <td>4.5</td>\n",
       "      <td>11.0</td>\n",
       "    </tr>\n",
       "    <tr>\n",
       "      <th>24.5</th>\n",
       "      <td>6.1</td>\n",
       "      <td>4.0</td>\n",
       "      <td>5.0</td>\n",
       "      <td>10.4</td>\n",
       "    </tr>\n",
       "    <tr>\n",
       "      <th>25.0</th>\n",
       "      <td>6.6</td>\n",
       "      <td>4.4</td>\n",
       "      <td>5.7</td>\n",
       "      <td>10.5</td>\n",
       "    </tr>\n",
       "    <tr>\n",
       "      <th>25.5</th>\n",
       "      <td>5.9</td>\n",
       "      <td>5.3</td>\n",
       "      <td>7.1</td>\n",
       "      <td>10.2</td>\n",
       "    </tr>\n",
       "    <tr>\n",
       "      <th>26.0</th>\n",
       "      <td>4.9</td>\n",
       "      <td>6.1</td>\n",
       "      <td>8.3</td>\n",
       "      <td>9.8</td>\n",
       "    </tr>\n",
       "    <tr>\n",
       "      <th>26.5</th>\n",
       "      <td>4.9</td>\n",
       "      <td>6.2</td>\n",
       "      <td>7.2</td>\n",
       "      <td>10.5</td>\n",
       "    </tr>\n",
       "    <tr>\n",
       "      <th>27.0</th>\n",
       "      <td>5.4</td>\n",
       "      <td>4.5</td>\n",
       "      <td>5.6</td>\n",
       "      <td>10.8</td>\n",
       "    </tr>\n",
       "    <tr>\n",
       "      <th>27.5</th>\n",
       "      <td>5.4</td>\n",
       "      <td>NaN</td>\n",
       "      <td>4.8</td>\n",
       "      <td>NaN</td>\n",
       "    </tr>\n",
       "    <tr>\n",
       "      <th>28.0</th>\n",
       "      <td>NaN</td>\n",
       "      <td>NaN</td>\n",
       "      <td>NaN</td>\n",
       "      <td>NaN</td>\n",
       "    </tr>\n",
       "    <tr>\n",
       "      <th>28.5</th>\n",
       "      <td>NaN</td>\n",
       "      <td>NaN</td>\n",
       "      <td>NaN</td>\n",
       "      <td>NaN</td>\n",
       "    </tr>\n",
       "    <tr>\n",
       "      <th>29.0</th>\n",
       "      <td>NaN</td>\n",
       "      <td>NaN</td>\n",
       "      <td>NaN</td>\n",
       "      <td>NaN</td>\n",
       "    </tr>\n",
       "    <tr>\n",
       "      <th>29.5</th>\n",
       "      <td>NaN</td>\n",
       "      <td>NaN</td>\n",
       "      <td>NaN</td>\n",
       "      <td>NaN</td>\n",
       "    </tr>\n",
       "  </tbody>\n",
       "</table>\n",
       "</div>"
      ],
      "text/plain": [
       "      d12  d21  w12   w21\n",
       "1.5   NaN  NaN  NaN   NaN\n",
       "2.0   NaN  NaN  NaN   NaN\n",
       "2.5   NaN  NaN  NaN   NaN\n",
       "3.0   4.8  NaN  7.0   NaN\n",
       "3.5   5.1  NaN  6.4   NaN\n",
       "4.0   5.4  5.2  6.0  11.1\n",
       "4.5   5.3  4.6  6.1  10.5\n",
       "5.0   5.0  4.8  6.0  11.3\n",
       "5.5   5.9  0.5  5.5  12.0\n",
       "6.0   6.0  4.3  5.5  11.7\n",
       "6.5   5.6  4.6  6.5  10.9\n",
       "7.0   5.4  5.0  7.3  10.6\n",
       "7.5   5.4  4.9  7.2  10.7\n",
       "8.0   4.9  4.7  6.8  10.3\n",
       "8.5   5.4  4.6  6.1  10.5\n",
       "9.0   6.0  4.5  5.6  11.1\n",
       "9.5   5.8  4.8  6.4  12.3\n",
       "10.0  5.3  3.3  7.4  11.5\n",
       "10.5  5.3  4.3  7.8  10.9\n",
       "11.0  5.2  5.8  8.2   9.6\n",
       "11.5  5.0  6.1  8.3   9.2\n",
       "12.0  4.8  6.0  8.1   9.2\n",
       "12.5  4.9  5.3  7.4  10.0\n",
       "13.0  5.0  4.0  6.6  10.2\n",
       "13.5  5.3  5.0  5.7  10.4\n",
       "14.0  5.5  5.2  5.5  10.0\n",
       "14.5  4.8  5.7  6.3  10.9\n",
       "15.0  4.5  5.3  6.8  11.8\n",
       "15.5  5.5  5.7  6.3  12.3\n",
       "16.0  5.6  4.7  6.4  11.6\n",
       "16.5  5.3  4.8  6.6  10.9\n",
       "17.0  5.0  5.1  7.0  10.2\n",
       "17.5  4.9  4.9  7.8  10.1\n",
       "18.0  5.1  3.5  8.2   9.2\n",
       "18.5  5.6  4.6  6.9   9.8\n",
       "19.0  5.9  4.9  5.2  11.3\n",
       "19.5  5.9  5.2  4.5  13.1\n",
       "20.0  5.8  3.0  4.4  12.9\n",
       "20.5  5.1  3.7  5.0  12.7\n",
       "21.0  4.6  4.8  5.8  12.3\n",
       "21.5  5.2  5.4  5.8  11.1\n",
       "22.0  5.7  5.6  5.5   9.7\n",
       "22.5  5.7  5.6  4.4  10.2\n",
       "23.0  5.5  4.1  3.7  10.7\n",
       "23.5  5.4  1.9  4.0  11.0\n",
       "24.0  5.2  4.6  4.5  11.0\n",
       "24.5  6.1  4.0  5.0  10.4\n",
       "25.0  6.6  4.4  5.7  10.5\n",
       "25.5  5.9  5.3  7.1  10.2\n",
       "26.0  4.9  6.1  8.3   9.8\n",
       "26.5  4.9  6.2  7.2  10.5\n",
       "27.0  5.4  4.5  5.6  10.8\n",
       "27.5  5.4  NaN  4.8   NaN\n",
       "28.0  NaN  NaN  NaN   NaN\n",
       "28.5  NaN  NaN  NaN   NaN\n",
       "29.0  NaN  NaN  NaN   NaN\n",
       "29.5  NaN  NaN  NaN   NaN"
      ]
     },
     "execution_count": 16,
     "metadata": {},
     "output_type": "execute_result"
    }
   ],
   "source": [
    "curvesE[0]"
   ]
  },
  {
   "cell_type": "markdown",
   "metadata": {},
   "source": [
    "Note that the order of columns doesn't necessarily match that of Curves+."
   ]
  },
  {
   "cell_type": "code",
   "execution_count": null,
   "metadata": {
    "collapsed": true
   },
   "outputs": [],
   "source": []
  }
 ],
 "metadata": {
  "kernelspec": {
   "display_name": "Python 2",
   "language": "python",
   "name": "python2"
  },
  "language_info": {
   "codemirror_mode": {
    "name": "ipython",
    "version": 2
   },
   "file_extension": ".py",
   "mimetype": "text/x-python",
   "name": "python",
   "nbconvert_exporter": "python",
   "pygments_lexer": "ipython2",
   "version": "2.7.9"
  }
 },
 "nbformat": 4,
 "nbformat_minor": 0
}
